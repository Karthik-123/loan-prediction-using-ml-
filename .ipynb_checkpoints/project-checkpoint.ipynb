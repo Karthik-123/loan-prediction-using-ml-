{
 "cells": [
  {
   "cell_type": "code",
   "execution_count": 1,
   "id": "2b965b4a-5cf2-48a6-8370-cfd26b5176e3",
   "metadata": {},
   "outputs": [],
   "source": [
    "import numpy as np\n",
    "import pandas as pd\n",
    "from sklearn.model_selection import train_test_split\n",
    "from sklearn import svm\n",
    "import joblib"
   ]
  },
  {
   "cell_type": "code",
   "execution_count": 3,
   "id": "e59f8bf7-ced6-47a6-968a-bcb9019c5d67",
   "metadata": {},
   "outputs": [],
   "source": [
    "loan_dataset = pd.read_csv(\"train.csv\")\n",
    "loan_dataset = loan_dataset.dropna()\n",
    "loan_dataset.replace({\"Loan_Status\": {'N': 0, 'Y': 1}}, inplace=True)\n",
    "loan_dataset = loan_dataset.replace(to_replace='3+', value=4)\n",
    "loan_dataset.replace({'Married': {'No': 0, 'Yes': 1},\n",
    "                      'Gender': {'Male': 1, 'Female': 0},\n",
    "                      'Self_Employed': {'No': 0, 'Yes': 1},\n",
    "                      'Property_Area': {'Rural': 0, 'Semiurban': 1, 'Urban': 2},\n",
    "                      'Education': {'Graduate': 1, 'Not Graduate': 0}}, inplace=True)"
   ]
  },
  {
   "cell_type": "code",
   "execution_count": 4,
   "id": "2c1570d8-60d7-4cd3-aaa8-c9d057cac2b0",
   "metadata": {},
   "outputs": [],
   "source": [
    "X = loan_dataset.drop(columns=['Loan_ID', 'Loan_Status'], axis=1)\n",
    "Y = loan_dataset['Loan_Status']"
   ]
  },
  {
   "cell_type": "code",
   "execution_count": null,
   "id": "17b9cba7-727d-4597-9a26-db2db17b9218",
   "metadata": {},
   "outputs": [],
   "source": [
    "X_train, X_test, Y_train, Y_test = train_test_split(X, Y, test_size=0.1, stratify=Y, random_state=2)"
   ]
  },
  {
   "cell_type": "code",
   "execution_count": null,
   "id": "a0ca4837-2c8f-4ef8-b92c-7dc1c4d691fa",
   "metadata": {},
   "outputs": [],
   "source": [
    "classifier = svm.SVC(kernel='linear')\n",
    "classifier.fit(X_train, Y_train)"
   ]
  },
  {
   "cell_type": "code",
   "execution_count": null,
   "id": "d05066a3-85dc-4916-aed6-dba407f5e4eb",
   "metadata": {},
   "outputs": [],
   "source": [
    "joblib.dump(classifier, 'loan_model.pkl')"
   ]
  },
  {
   "cell_type": "code",
   "execution_count": null,
   "id": "57073a6c-2d6c-4d67-8525-18837bd67808",
   "metadata": {},
   "outputs": [],
   "source": []
  }
 ],
 "metadata": {
  "kernelspec": {
   "display_name": "Python 3 (ipykernel)",
   "language": "python",
   "name": "python3"
  },
  "language_info": {
   "codemirror_mode": {
    "name": "ipython",
    "version": 3
   },
   "file_extension": ".py",
   "mimetype": "text/x-python",
   "name": "python",
   "nbconvert_exporter": "python",
   "pygments_lexer": "ipython3",
   "version": "3.11.7"
  }
 },
 "nbformat": 4,
 "nbformat_minor": 5
}
